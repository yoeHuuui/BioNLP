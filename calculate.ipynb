{
 "metadata": {
  "language_info": {
   "codemirror_mode": {
    "name": "ipython",
    "version": 3
   },
   "file_extension": ".py",
   "mimetype": "text/x-python",
   "name": "python",
   "nbconvert_exporter": "python",
   "pygments_lexer": "ipython3",
   "version": "3.7.0-final"
  },
  "orig_nbformat": 2,
  "kernelspec": {
   "name": "python3",
   "display_name": "Python 3.7.0 64-bit",
   "metadata": {
    "interpreter": {
     "hash": "49fdda9a8f1b43ecf94cbf6adfec0c9149aed4e40f425dad389976f3db3c5b4b"
    }
   }
  }
 },
 "nbformat": 4,
 "nbformat_minor": 2,
 "cells": [
  {
   "cell_type": "code",
   "execution_count": 13,
   "metadata": {},
   "outputs": [],
   "source": [
    "import pandas as pd\n",
    "from collections import Counter"
   ]
  },
  {
   "cell_type": "code",
   "execution_count": 5,
   "metadata": {},
   "outputs": [],
   "source": [
    "entity = pd.read_table(\"./entity_merge.txt\", sep = '\\t', header = None)\n",
    "entity.columns = ['pmid', 'start', 'end', 'text', 'type', 'id']\n",
    "entity['text'] = entity.text.str.lower()"
   ]
  },
  {
   "cell_type": "code",
   "execution_count": 53,
   "metadata": {},
   "outputs": [],
   "source": [
    "Gene_list = entity[entity.type == 'Gene']\n",
    "Disease_list = entity[entity.type == 'Disease']\n",
    "Chemical_list = entity[entity.type == 'Chemical']"
   ]
  },
  {
   "cell_type": "code",
   "execution_count": 47,
   "metadata": {},
   "outputs": [],
   "source": [
    "x = Counter(Gene_list.text)\n",
    "Gene = pd.DataFrame(list(x.items()), columns=['Gene', 'Time'])"
   ]
  },
  {
   "cell_type": "code",
   "execution_count": 48,
   "metadata": {},
   "outputs": [],
   "source": [
    "x = Counter(Disease_list.text)\n",
    "Disease = pd.DataFrame(list(x.items()), columns=['Disease', 'Time'])"
   ]
  },
  {
   "cell_type": "code",
   "execution_count": 54,
   "metadata": {},
   "outputs": [],
   "source": [
    "x = Counter(Chemical_list.text)\n",
    "Chemical = pd.DataFrame(list(x.items()), columns=['Chemical', 'Time'])"
   ]
  },
  {
   "cell_type": "code",
   "execution_count": 55,
   "metadata": {},
   "outputs": [],
   "source": [
    "Disease.sort_values(by = 'Time', ascending = False, inplace = True)\n",
    "Gene.sort_values(by = 'Time', ascending = False, inplace = True)\n",
    "Chemical.sort_values(by = 'Time', ascending = False, inplace = True)"
   ]
  },
  {
   "cell_type": "code",
   "execution_count": 58,
   "metadata": {},
   "outputs": [],
   "source": [
    "Disease.to_csv(\"./Disease.txt\", sep = '\\t', index = False)\n",
    "Gene.to_csv(\"./Gene.txt\", sep = '\\t', index = False)\n",
    "Chemical.to_csv(\"./Chemical.txt\", sep = '\\t', index = False)"
   ]
  },
  {
   "cell_type": "code",
   "execution_count": null,
   "metadata": {},
   "outputs": [],
   "source": []
  }
 ]
}